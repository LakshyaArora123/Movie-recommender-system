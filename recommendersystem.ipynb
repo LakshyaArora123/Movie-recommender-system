{
 "cells": [
  {
   "cell_type": "code",
   "execution_count": 18,
   "metadata": {},
   "outputs": [],
   "source": [
    "import numpy as np\n",
    "import pandas as pd\n",
    "import sklearn\n",
    "import matplotlib.pyplot as plt\n",
    "import seaborn as sns\n",
    "from sklearn.neighbors import NearestNeighbors\n"
   ]
  },
  {
   "cell_type": "code",
   "execution_count": 11,
   "metadata": {},
   "outputs": [
    {
     "name": "stdout",
     "output_type": "stream",
     "text": [
      "   userId  movieId  rating  timestamp\n",
      "0       1        1     4.0  964982703\n",
      "1       1        3     4.0  964981247\n",
      "2       1        6     4.0  964982224\n",
      "3       1       47     5.0  964983815\n",
      "4       1       50     5.0  964982931\n"
     ]
    }
   ],
   "source": [
    "m_rat = pd.read_csv(\"C:/Users/laksh/OneDrive/Documents/data sets/movie ratings.csv\")\n",
    "print(m_rat.head())\n"
   ]
  },
  {
   "cell_type": "code",
   "execution_count": 12,
   "metadata": {},
   "outputs": [
    {
     "name": "stdout",
     "output_type": "stream",
     "text": [
      "   movieId                               title  \\\n",
      "0        1                    Toy Story (1995)   \n",
      "1        2                      Jumanji (1995)   \n",
      "2        3             Grumpier Old Men (1995)   \n",
      "3        4            Waiting to Exhale (1995)   \n",
      "4        5  Father of the Bride Part II (1995)   \n",
      "\n",
      "                                        genres  \n",
      "0  Adventure|Animation|Children|Comedy|Fantasy  \n",
      "1                   Adventure|Children|Fantasy  \n",
      "2                               Comedy|Romance  \n",
      "3                         Comedy|Drama|Romance  \n",
      "4                                       Comedy  \n"
     ]
    }
   ],
   "source": [
    "movies = pd.read_csv(\"C:/Users/laksh/OneDrive/Documents/data sets/movies.csv\")\n",
    "print(movies.head())"
   ]
  },
  {
   "cell_type": "code",
   "execution_count": 13,
   "metadata": {},
   "outputs": [
    {
     "name": "stdout",
     "output_type": "stream",
     "text": [
      "ratings-100836\n",
      "users  -610\n",
      "movies -9724\n"
     ]
    }
   ],
   "source": [
    "n_ratings = len(m_rat)\n",
    "n_movies = len(m_rat['movieId'].unique())\n",
    "n_users = len(m_rat['userId'].unique())\n",
    "print(f\"ratings-{n_ratings}\")\n",
    "print(f\"users  -{n_users}\")\n",
    "print(f\"movies -{n_movies}\")"
   ]
  },
  {
   "cell_type": "code",
   "execution_count": 14,
   "metadata": {},
   "outputs": [
    {
     "name": "stdout",
     "output_type": "stream",
     "text": [
      "mean_rating\n",
      "           rating\n",
      "movieId          \n",
      "1        3.920930\n",
      "2        3.431818\n",
      "3        3.259615\n",
      "4        2.357143\n",
      "5        3.071429\n",
      "...           ...\n",
      "193581   4.000000\n",
      "193583   3.500000\n",
      "193585   3.500000\n",
      "193587   3.500000\n",
      "193609   4.000000\n",
      "\n",
      "[9724 rows x 1 columns]\n"
     ]
    }
   ],
   "source": [
    "mean_rating = m_rat.groupby('movieId')[['rating']].mean()\n",
    "print(\"mean_rating\")\n",
    "print(mean_rating)\n",
    "lowest = mean_rating['rating'].idxmin()\n",
    "movies.loc[movies['movieId'] == lowest]\n",
    "\n",
    "highest_rated = mean_rating['rating'].idxmax()\n",
    "movies.loc[movies['movieId'] == highest_rated]\n",
    "\n",
    "m_rat[m_rat['movieId']==highest_rated]\n",
    "\n",
    "m_rat[m_rat['movieId']==lowest]\n",
    "\n",
    "\n",
    "movie_stats = m_rat.groupby('movieId')[['rating']].agg(['count', 'mean'])\n",
    "movie_stats.columns = movie_stats.columns.droplevel()\n"
   ]
  },
  {
   "cell_type": "code",
   "execution_count": 16,
   "metadata": {},
   "outputs": [],
   "source": [
    "# Now, we create user-item matrix using scipy csr matrix\n",
    "from scipy.sparse import csr_matrix\n",
    "\n",
    "def create_matrix(df):\n",
    "\t\n",
    "\tN = len(df['userId'].unique())\n",
    "\tM = len(df['movieId'].unique())\n",
    "\t\n",
    "\t# Map Ids to indices\n",
    "\tuser_mapper = dict(zip(np.unique(df[\"userId\"]), list(range(N))))\n",
    "\tmovie_mapper = dict(zip(np.unique(df[\"movieId\"]), list(range(M))))\n",
    "\t\n",
    "\t# Map indices to IDs\n",
    "\tuser_inv_mapper = dict(zip(list(range(N)), np.unique(df[\"userId\"])))\n",
    "\tmovie_inv_mapper = dict(zip(list(range(M)), np.unique(df[\"movieId\"])))\n",
    "\t\n",
    "\tuser_index = [user_mapper[i] for i in df['userId']]\n",
    "\tmovie_index = [movie_mapper[i] for i in df['movieId']]\n",
    "\n",
    "\tX = csr_matrix((df[\"rating\"], (movie_index, user_index)), shape=(M, N))\n",
    "\t\n",
    "\treturn X, user_mapper, movie_mapper, user_inv_mapper, movie_inv_mapper\n",
    "\t\n",
    "X, user_mapper, movie_mapper, user_inv_mapper, movie_inv_mapper = create_matrix(m_rat)\n"
   ]
  },
  {
   "cell_type": "code",
   "execution_count": 19,
   "metadata": {},
   "outputs": [
    {
     "name": "stdout",
     "output_type": "stream",
     "text": [
      "Since you watched Grumpier Old Men (1995)\n",
      "Grumpy Old Men (1993)\n",
      "Striptease (1996)\n",
      "Nutty Professor, The (1996)\n",
      "Twister (1996)\n",
      "Father of the Bride Part II (1995)\n",
      "Broken Arrow (1996)\n",
      "Bio-Dome (1996)\n",
      "Truth About Cats & Dogs, The (1996)\n",
      "Sabrina (1995)\n",
      "Birdcage, The (1996)\n"
     ]
    }
   ],
   "source": [
    "def find_similar_movies(movie_id, X, k, metric='cosine', show_distance=False):\n",
    "\t\n",
    "\tneighbour_ids = []\n",
    "\t\n",
    "\tmovie_ind = movie_mapper[movie_id]\n",
    "\tmovie_vec = X[movie_ind]\n",
    "\tk+=1\n",
    "\tkNN = NearestNeighbors(n_neighbors=k, algorithm=\"brute\", metric=metric)\n",
    "\tkNN.fit(X)\n",
    "\tmovie_vec = movie_vec.reshape(1,-1)\n",
    "\tneighbour = kNN.kneighbors(movie_vec, return_distance=show_distance)\n",
    "\tfor i in range(0,k):\n",
    "\t\tn = neighbour.item(i)\n",
    "\t\tneighbour_ids.append(movie_inv_mapper[n])\n",
    "\tneighbour_ids.pop(0)\n",
    "\treturn neighbour_ids\n",
    "\n",
    "\n",
    "movie_titles = dict(zip(movies['movieId'], movies['title']))\n",
    "\n",
    "movie_id = 3\n",
    "\n",
    "similar_ids = find_similar_movies(movie_id, X, k=10)\n",
    "movie_title = movie_titles[movie_id]\n",
    "\n",
    "print(f\"Since you watched {movie_title}\")\n",
    "for i in similar_ids:\n",
    "\tprint(movie_titles[i])\n"
   ]
  },
  {
   "cell_type": "code",
   "execution_count": 20,
   "metadata": {},
   "outputs": [],
   "source": [
    "def recommend_movies_for_user(user_id, X, user_mapper, movie_mapper, movie_inv_mapper, k=10):\n",
    "\tdf1 = m_rat[m_rat['userId'] == user_id]\n",
    "\t\n",
    "\tif df1.empty:\n",
    "\t\tprint(f\"User with ID {user_id} does not exist.\")\n",
    "\t\treturn\n",
    "\n",
    "\tmovie_id = df1[df1['rating'] == max(df1['rating'])]['movieId'].iloc[0]\n",
    "\n",
    "\tmovie_titles = dict(zip(movies['movieId'], movies['title']))\n",
    "\n",
    "\tsimilar_ids = find_similar_movies(movie_id, X, k)\n",
    "\tmovie_title = movie_titles.get(movie_id, \"Movie not found\")\n",
    "\n",
    "\tif movie_title == \"Movie not found\":\n",
    "\t\tprint(f\"Movie with ID {movie_id} not found.\")\n",
    "\t\treturn\n",
    "\n",
    "\tprint(f\"Since you watched {movie_title}, you might also like:\")\n",
    "\tfor i in similar_ids:\n",
    "\t\tprint(movie_titles.get(i, \"Movie not found\"))\n"
   ]
  },
  {
   "cell_type": "code",
   "execution_count": 23,
   "metadata": {},
   "outputs": [
    {
     "name": "stdout",
     "output_type": "stream",
     "text": [
      "Since you watched Shawshank Redemption, The (1994), you might also like:\n",
      "Forrest Gump (1994)\n",
      "Pulp Fiction (1994)\n",
      "Silence of the Lambs, The (1991)\n",
      "Usual Suspects, The (1995)\n",
      "Schindler's List (1993)\n",
      "Fight Club (1999)\n",
      "Braveheart (1995)\n",
      "Matrix, The (1999)\n",
      "Apollo 13 (1995)\n",
      "Seven (a.k.a. Se7en) (1995)\n"
     ]
    }
   ],
   "source": [
    "user_id = 22\n",
    "recommend_movies_for_user(user_id, X, user_mapper, movie_mapper, movie_inv_mapper, k=10)\n"
   ]
  }
 ],
 "metadata": {
  "kernelspec": {
   "display_name": "CODING",
   "language": "python",
   "name": "python3"
  },
  "language_info": {
   "codemirror_mode": {
    "name": "ipython",
    "version": 3
   },
   "file_extension": ".py",
   "mimetype": "text/x-python",
   "name": "python",
   "nbconvert_exporter": "python",
   "pygments_lexer": "ipython3",
   "version": "3.10.4"
  }
 },
 "nbformat": 4,
 "nbformat_minor": 2
}
